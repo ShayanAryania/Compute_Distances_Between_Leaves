{
 "cells": [
  {
   "cell_type": "code",
   "execution_count": 31,
   "metadata": {},
   "outputs": [],
   "source": [
    "from queue import Queue\n",
    "from collections import defaultdict\n",
    "import re"
   ]
  },
  {
   "cell_type": "code",
   "execution_count": 32,
   "metadata": {},
   "outputs": [],
   "source": [
    "def Breadth_first_search(graph, root):\n",
    "\tCurrent = root\n",
    "\td = [-1] * len(graph)\n",
    "\td[Current] = 0\n",
    "\n",
    "\tq = Queue()\n",
    "\tfor neighbor, weight in graph[Current]:\n",
    "\t\td[neighbor] = weight + d[Current]\n",
    "\t\tq.put(neighbor)\n",
    "\n",
    "\twhile not q.empty():\n",
    "\t\tCurrent = q.get()\n",
    "\t\tfor neighbor, weight in graph[Current]:\n",
    "\t\t\tif d[neighbor] != -1:\n",
    "\t\t\t\tcontinue\n",
    "\t\t\telse:\n",
    "\t\t\t\td[neighbor] = weight + d[Current]\n",
    "\t\t\t\tq.put(neighbor)\n",
    "\n",
    "\treturn d"
   ]
  },
  {
   "cell_type": "code",
   "execution_count": 33,
   "metadata": {},
   "outputs": [],
   "source": [
    "with open(\"/Users/shayanaryania/Desktop/University/Rosalind/Compute_Distances_Between_Leaves/rosalind_ba7a.txt\") as inFile:\n",
    "    Leaf = int(inFile.readline())\n",
    "    graph = defaultdict(list)\n",
    "    for line in inFile.readlines():\n",
    "        source, distance, weight = list(map(int, re.split('->|:', line.strip())))\n",
    "        graph[source].append((distance,weight))"
   ]
  },
  {
   "cell_type": "code",
   "execution_count": 34,
   "metadata": {},
   "outputs": [],
   "source": [
    "with open('/Users/shayanaryania/Desktop/University/Rosalind/Compute_Distances_Between_Leaves/rosalind_BA7A_out.txt', 'w') as outFile:\n",
    "    for leaf in range(Leaf):\n",
    "    \tprint(' '.join(list(map(str, Breadth_first_search(graph, leaf)[:Leaf]))), file=outFile)"
   ]
  },
  {
   "cell_type": "code",
   "execution_count": null,
   "metadata": {},
   "outputs": [],
   "source": []
  }
 ],
 "metadata": {
  "kernelspec": {
   "display_name": "Python 3",
   "language": "python",
   "name": "python3"
  },
  "language_info": {
   "codemirror_mode": {
    "name": "ipython",
    "version": 3
   },
   "file_extension": ".py",
   "mimetype": "text/x-python",
   "name": "python",
   "nbconvert_exporter": "python",
   "pygments_lexer": "ipython3",
   "version": "3.11.4"
  }
 },
 "nbformat": 4,
 "nbformat_minor": 2
}
